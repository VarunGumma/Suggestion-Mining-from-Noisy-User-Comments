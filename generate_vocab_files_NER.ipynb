{
 "cells": [
  {
   "cell_type": "code",
   "execution_count": null,
   "id": "94b05aaf",
   "metadata": {},
   "outputs": [],
   "source": [
    "import pandas as pd\n",
    "from itertools import chain\n",
    "\n",
    "# import nltk\n",
    "# nltk.download('all')"
   ]
  },
  {
   "cell_type": "code",
   "execution_count": null,
   "id": "5109ae21",
   "metadata": {},
   "outputs": [],
   "source": [
    "def create_vocab(text):\n",
    "    all_words = list(chain.from_iterable(text))\n",
    "    all_unique_words = ['<PAD>', '<UNK>', '<START>', '<END>'] + sorted(list(set(all_words)))\n",
    "    with open(f\"./data/full_vocab_ner.txt\", mode=\"w\", encoding=\"utf-8\") as f:\n",
    "        f.writelines([f\"{w}\\n\" for w in all_unique_words])\n",
    "    print(f\"done!\")"
   ]
  },
  {
   "cell_type": "code",
   "execution_count": null,
   "id": "3c139a03",
   "metadata": {},
   "outputs": [],
   "source": [
    "data1 = pd.read_csv(\"./data/train_290818.txt\",\n",
    "                    sep=' ',\n",
    "                    header=None,\n",
    "                    names=['a', 'b', 'c'],\n",
    "                    encoding=\"utf-8\",\n",
    "                    converters={'a': pd.eval, \n",
    "                                'b': pd.eval})\n",
    "\n",
    "data2 = pd.read_csv(\"./data/test_290818.txt\",\n",
    "                    sep=' ',\n",
    "                    header=None,\n",
    "                    names=['a', 'b', 'c'],\n",
    "                    encoding=\"utf-8\",\n",
    "                    converters={'a': pd.eval, \n",
    "                                'b': pd.eval})\n",
    "\n",
    "text = list(data1['a']) + list(data2['a'])\n",
    "print(text)"
   ]
  },
  {
   "cell_type": "code",
   "execution_count": 5,
   "id": "bc395557",
   "metadata": {},
   "outputs": [
    {
     "name": "stdout",
     "output_type": "stream",
     "text": [
      "done!\n"
     ]
    }
   ],
   "source": [
    "create_vocab(text)"
   ]
  }
 ],
 "metadata": {
  "kernelspec": {
   "display_name": "Python 3.10.5 64-bit",
   "language": "python",
   "name": "python3"
  },
  "language_info": {
   "codemirror_mode": {
    "name": "ipython",
    "version": 3
   },
   "file_extension": ".py",
   "mimetype": "text/x-python",
   "name": "python",
   "nbconvert_exporter": "python",
   "pygments_lexer": "ipython3",
   "version": "3.10.7"
  },
  "vscode": {
   "interpreter": {
    "hash": "7a2000831a5050d8503f24d6733c4641a8734e9c81b6dced7c2deb928c6c3201"
   }
  }
 },
 "nbformat": 4,
 "nbformat_minor": 5
}
