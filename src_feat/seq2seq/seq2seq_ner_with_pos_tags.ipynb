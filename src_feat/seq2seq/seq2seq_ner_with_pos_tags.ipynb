{
 "cells": [
  {
   "cell_type": "code",
   "execution_count": 1,
   "id": "8a169663",
   "metadata": {},
   "outputs": [],
   "source": [
    "from sys import path\n",
    "from os.path import dirname, abspath\n",
    "path.append(dirname(dirname(abspath(\"__file__\"))))"
   ]
  },
  {
   "cell_type": "code",
   "execution_count": 2,
   "id": "5b0ffc06",
   "metadata": {},
   "outputs": [
    {
     "name": "stderr",
     "output_type": "stream",
     "text": [
      "Global seed set to 42\n"
     ]
    },
    {
     "data": {
      "text/plain": [
       "42"
      ]
     },
     "execution_count": 2,
     "metadata": {},
     "output_type": "execute_result"
    }
   ],
   "source": [
    "from torchcrf import CRF\n",
    "import torch\n",
    "import torch.nn as nn\n",
    "from torch_optimizer import Ranger\n",
    "import torch.nn.functional as F\n",
    "from transformers import get_cosine_schedule_with_warmup\n",
    "from torch.utils.data import DataLoader, TensorDataset, random_split\n",
    "from scripts.utils import *\n",
    "from scripts.metrics import f1score\n",
    "import pytorch_lightning as pl\n",
    "from pytorch_lightning.callbacks import EarlyStopping, ModelCheckpoint\n",
    "from pytorch_lightning.loggers import TensorBoardLogger\n",
    "from multiprocessing import cpu_count\n",
    "from platform import system\n",
    "\n",
    "pl.seed_everything(seed=42)"
   ]
  },
  {
   "cell_type": "code",
   "execution_count": 3,
   "id": "675f0f94",
   "metadata": {},
   "outputs": [],
   "source": [
    "LEARNING_RATE = 3e-1 #3e-1 for bidirectional\n",
    "BATCH_SIZE = 128\n",
    "WEIGHT_DECAY = 1e-1\n",
    "EPOCHS = 25\n",
    "MAX_LEN = None\n",
    "CELL_TYPE = \"lstm\"\n",
    "MODEL_NAME = f\"seq2seq-{CELL_TYPE}-ner-with-pos-tags\" #remove uni for bidirectional\n",
    "N_JOBS = cpu_count() if system() != \"Windows\" else 0\n",
    "\n",
    "TAG2IDX = {'B': 0, 'I': 1, 'O': 2, 'E': 3, 'S': 4, '<': 5, '>': 6, '$': 7}\n",
    "\n",
    "POS_TAGS2IDX = {'PAD_AUX': 0, 'ADJ': 1, 'ADP': 2, 'ADV': 3, 'AUX': 4, \n",
    "                'CONJ': 5, 'CCONJ': 6, 'DET': 7, 'INTJ': 8, 'NOUN': 9, \n",
    "                'NUM': 10, 'PART': 11, 'PRON': 12, 'PROPN': 13, 'PUNCT': 14, \n",
    "                'SCONJ': 15, 'SYM': 16, 'VERB': 17, 'X': 18, 'SPACE': 19}"
   ]
  },
  {
   "cell_type": "code",
   "execution_count": 4,
   "id": "8793db1d",
   "metadata": {},
   "outputs": [],
   "source": [
    "class SEQ2SEQ_POS_TAGS(pl.LightningModule):\n",
    "    def __init__(self, \n",
    "                 input_dim1, \n",
    "                 input_dim2,\n",
    "                 cell_type=\"lstm\",\n",
    "                 embed_dim1=128, \n",
    "                 embed_dim2=32,\n",
    "                 dropout=0.5, \n",
    "                 cell_dim1=128,\n",
    "                 cell_dim2=128,\n",
    "                 bidirectional=True, \n",
    "                 num_layers1=3,\n",
    "                 num_layers2=1,\n",
    "                 num_tags=len(TAG2IDX),\n",
    "                 use_scheduler=True,\n",
    "                 train_dataset=None,\n",
    "                 val_dataset=None,\n",
    "                 test_dataset=None):\n",
    "\n",
    "        super().__init__()\n",
    "        self.embedding1 = nn.Embedding(num_embeddings=input_dim1,\n",
    "                                       embedding_dim=embed_dim1,\n",
    "                                       padding_idx=TAG2IDX['$'])\n",
    "\n",
    "        self.embedding2 = nn.Embedding(num_embeddings=input_dim2,\n",
    "                                       embedding_dim=embed_dim2,\n",
    "                                       padding_idx=POS_TAGS2IDX['PAD_AUX'])\n",
    "        \n",
    "        c = (2 if bidirectional else 1)\n",
    "        if cell_type == \"lstm\":\n",
    "            self.cell1 = nn.LSTM(input_size=embed_dim1, \n",
    "                                hidden_size=cell_dim1, \n",
    "                                dropout=dropout,\n",
    "                                batch_first=True,\n",
    "                                num_layers=num_layers1, \n",
    "                                bidirectional=bidirectional)\n",
    "\n",
    "            self.cell2 = nn.LSTM(input_size=embed_dim2, \n",
    "                                hidden_size=cell_dim2, \n",
    "                                dropout=dropout,\n",
    "                                batch_first=True,\n",
    "                                num_layers=num_layers2, \n",
    "                                bidirectional=bidirectional)\n",
    "        else:\n",
    "            self.cell1 = nn.GRU(input_size=embed_dim1, \n",
    "                                hidden_size=cell_dim1, \n",
    "                                dropout=dropout,\n",
    "                                batch_first=True,\n",
    "                                num_layers=num_layers1, \n",
    "                                bidirectional=bidirectional)\n",
    "\n",
    "            self.cell2 = nn.GRU(input_size=embed_dim2, \n",
    "                                hidden_size=cell_dim2, \n",
    "                                dropout=dropout,\n",
    "                                batch_first=True,\n",
    "                                num_layers=num_layers2, \n",
    "                                bidirectional=bidirectional)\n",
    "\n",
    "        self.fc = nn.Linear(c*cell_dim1, num_tags)\n",
    "        self.crf = CRF(num_tags=num_tags, batch_first=True)\n",
    "        self.dropout = nn.Dropout(p=dropout)\n",
    "        ## Hyperparameters ##\n",
    "        self.use_scheduler = use_scheduler\n",
    "        self.learning_rate = LEARNING_RATE\n",
    "        self.weight_decay = WEIGHT_DECAY\n",
    "        self.batch_size = BATCH_SIZE\n",
    "        ## Datasets ##\n",
    "        self.train_dataset = train_dataset\n",
    "        self.val_dataset = val_dataset\n",
    "        self.test_dataset = test_dataset\n",
    "        ## steps ##\n",
    "        if self.use_scheduler: \n",
    "            self.total_steps = len(train_dataset) // self.batch_size\n",
    "\n",
    "    def train_dataloader(self):\n",
    "        return DataLoader(self.train_dataset, \n",
    "                          batch_size=self.batch_size,\n",
    "                          num_workers=N_JOBS,\n",
    "                          shuffle=True,\n",
    "                          drop_last=False)\n",
    "\n",
    "\n",
    "    def val_dataloader(self):\n",
    "        return DataLoader(self.val_dataset, \n",
    "                          batch_size=self.batch_size,\n",
    "                          num_workers=N_JOBS,\n",
    "                          shuffle=False,\n",
    "                          drop_last=False)\n",
    "\n",
    "\n",
    "    def test_dataloader(self):\n",
    "        return DataLoader(self.test_dataset, \n",
    "                          batch_size=self.batch_size,\n",
    "                          num_workers=N_JOBS,\n",
    "                          shuffle=False,\n",
    "                          drop_last=False)\n",
    "    \n",
    "\n",
    "    def forward(self, input_ids1, input_ids2):\n",
    "        out1, _ = self.cell1(self.embedding1(input_ids1))\n",
    "        out2, _ = self.cell2(self.embedding2(input_ids2))\n",
    "        out = out1 + out2\n",
    "        out = F.relu(out)\n",
    "        out = self.dropout(out)\n",
    "        out = self.fc(out)\n",
    "        return out\n",
    "\n",
    "\n",
    "    def _shared_evaluation_step(self, batch, batch_idx):\n",
    "        ids1, ids2, masks, lbls = batch\n",
    "        emissions = self(ids1, ids2)\n",
    "        loss = -self.crf(emissions, lbls, mask=masks)\n",
    "        pred = self.crf.decode(emissions, mask=masks)\n",
    "        r, p, f1 = f1score(lbls, pred)\n",
    "        return loss, r, p, f1\n",
    "     \n",
    "        \n",
    "    def training_step(self, batch, batch_idx):\n",
    "        loss, r, p, f1 = self._shared_evaluation_step(batch, batch_idx)\n",
    "        self.log(\"train_loss\", loss, on_step=False, on_epoch=True, prog_bar=True)\n",
    "        self.log(\"train_recall\", r, on_step=False, on_epoch=True, prog_bar=True)\n",
    "        self.log(\"train_precision\", p, on_step=False, on_epoch=True, prog_bar=True)\n",
    "        self.log(\"train_f1score\", f1, on_step=False, on_epoch=True, prog_bar=True)\n",
    "        return loss\n",
    "\n",
    "\n",
    "    def validation_step(self, batch, batch_idx):\n",
    "        loss, r, p, f1 = self._shared_evaluation_step(batch, batch_idx)\n",
    "        self.log(\"val_loss\", loss, on_step=False, on_epoch=True, prog_bar=True)\n",
    "        self.log(\"val_recall\", r, on_step=False, on_epoch=True, prog_bar=True)\n",
    "        self.log(\"val_precision\", p, on_step=False, on_epoch=True, prog_bar=True)\n",
    "        self.log(\"val_f1score\", f1, on_step=False, on_epoch=True, prog_bar=True)\n",
    "\n",
    "    \n",
    "    def test_step(self, batch, batch_idx):\n",
    "        loss, r, p, f1 = self._shared_evaluation_step(batch, batch_idx)\n",
    "        self.log(\"test_loss\", loss, on_step=False, on_epoch=True, prog_bar=True)\n",
    "        self.log(\"test_recall\", r, on_step=False, on_epoch=True, prog_bar=True)\n",
    "        self.log(\"test_precision\", p, on_step=False, on_epoch=True, prog_bar=True)\n",
    "        self.log(\"test_f1score\", f1, on_step=False, on_epoch=True, prog_bar=True)\n",
    "\n",
    "\n",
    "    def predict_step(self, batch, batch_idx, dataloader_idx=0):\n",
    "        ids1, ids2, masks, _ = batch\n",
    "        return self.crf.decode(self(ids1, ids2), mask=masks)\n",
    "\n",
    "\n",
    "    def configure_optimizers(self):           \n",
    "        optimizer = Ranger(self.parameters(), \n",
    "                           lr=self.learning_rate,\n",
    "                           weight_decay=self.weight_decay)\n",
    "\n",
    "        if self.use_scheduler:\n",
    "            scheduler = get_cosine_schedule_with_warmup(optimizer=optimizer,\n",
    "                                                        num_warmup_steps=1,\n",
    "                                                        num_training_steps=self.total_steps)\n",
    "            lr_scheduler = {\n",
    "                'scheduler': scheduler, \n",
    "                'interval': 'epoch', \n",
    "                'frequency': 1\n",
    "            }\n",
    "            return [optimizer], [lr_scheduler]\n",
    "        else:\n",
    "            return [optimizer]"
   ]
  },
  {
   "cell_type": "code",
   "execution_count": 5,
   "id": "e8733e15",
   "metadata": {},
   "outputs": [],
   "source": [
    "with open(\"../../data/full_vocab_ner.txt\", mode=\"r\", encoding=\"utf-8\") as f:\n",
    "    vocab = [s.strip() for s in f.readlines()]\n",
    "    VOCAB2IDX = {v:k for (k, v) in enumerate(vocab)}"
   ]
  },
  {
   "cell_type": "code",
   "execution_count": 6,
   "id": "5875c015",
   "metadata": {},
   "outputs": [],
   "source": [
    "encoded_input, pos_tags, masks, extended_labels = get_encoded_input(\"../../data/train_290818.txt\", \n",
    "                                                                    tag2idx=TAG2IDX,\n",
    "                                                                    vocab2idx=VOCAB2IDX,\n",
    "                                                                    pos_tags2idx=POS_TAGS2IDX,\n",
    "                                                                    return_pos_tags=True,\n",
    "                                                                    maxlen=MAX_LEN)\n",
    "\n",
    "L = len(extended_labels)\n",
    "\n",
    "dataset = TensorDataset(torch.LongTensor(encoded_input),\n",
    "                        torch.LongTensor(pos_tags),\n",
    "                        torch.BoolTensor(masks),\n",
    "                        torch.LongTensor(extended_labels))\n",
    "\n",
    "train_sz, val_sz = L-int(0.1*L), int(0.1*L)\n",
    "train_dataset, val_dataset = random_split(dataset, (train_sz, val_sz))                                                                                                                      "
   ]
  },
  {
   "cell_type": "code",
   "execution_count": 7,
   "id": "b8bc2e3f",
   "metadata": {},
   "outputs": [],
   "source": [
    "encoded_input, pos_tags, masks, extended_labels = get_encoded_input(\"../../data/test_290818.txt\", \n",
    "                                                                    tag2idx=TAG2IDX,\n",
    "                                                                    vocab2idx=VOCAB2IDX,\n",
    "                                                                    pos_tags2idx=POS_TAGS2IDX,\n",
    "                                                                    return_pos_tags=True,\n",
    "                                                                    maxlen=MAX_LEN)\n",
    "\n",
    "\n",
    "test_dataset = TensorDataset(torch.LongTensor(encoded_input),\n",
    "                             torch.LongTensor(pos_tags),\n",
    "                             torch.BoolTensor(masks),\n",
    "                             torch.LongTensor(extended_labels))"
   ]
  },
  {
   "cell_type": "code",
   "execution_count": 8,
   "id": "328834d2",
   "metadata": {},
   "outputs": [
    {
     "name": "stderr",
     "output_type": "stream",
     "text": [
      "/home/varun/.local/lib/python3.10/site-packages/torch/nn/modules/rnn.py:62: UserWarning: dropout option adds dropout after all but last recurrent layer, so non-zero dropout expects num_layers greater than 1, but got dropout=0.5 and num_layers=1\n",
      "  warnings.warn(\"dropout option adds dropout after all but last \"\n",
      "Using 16bit native Automatic Mixed Precision (AMP)\n",
      "GPU available: True, used: True\n",
      "TPU available: False, using: 0 TPU cores\n",
      "IPU available: False, using: 0 IPUs\n",
      "HPU available: False, using: 0 HPUs\n"
     ]
    }
   ],
   "source": [
    "model = SEQ2SEQ_POS_TAGS(input_dim1=len(VOCAB2IDX),\n",
    "                         input_dim2=len(POS_TAGS2IDX),\n",
    "                         cell_type=CELL_TYPE,\n",
    "                         bidirectional=True,\n",
    "                         train_dataset=train_dataset,\n",
    "                         val_dataset=val_dataset,\n",
    "                         test_dataset=test_dataset,\n",
    "                         use_scheduler=True)\n",
    "\n",
    "earlystopping_callback = EarlyStopping(monitor=\"val_f1score\", \n",
    "                                       min_delta=1e-4, \n",
    "                                       patience=10, \n",
    "                                       mode=\"max\")\n",
    "\n",
    "checkpoint_callback = ModelCheckpoint(dirpath=\"../saved_weights\",\n",
    "                                      filename=MODEL_NAME,\n",
    "                                      save_top_k=1, \n",
    "                                      mode=\"max\",\n",
    "                                      monitor=\"val_f1score\",\n",
    "                                      save_weights_only=True)\n",
    "\n",
    "logger = TensorBoardLogger(\"../../tb_logs\", name=MODEL_NAME)\n",
    "\n",
    "trainer = pl.Trainer(accelerator=\"gpu\",\n",
    "                     max_epochs=EPOCHS,\n",
    "                     precision=16,\n",
    "                     logger=logger,\n",
    "                     log_every_n_steps=1,\n",
    "                     callbacks=[earlystopping_callback,\n",
    "                                checkpoint_callback])"
   ]
  },
  {
   "cell_type": "code",
   "execution_count": 9,
   "id": "72fe7662",
   "metadata": {
    "scrolled": false
   },
   "outputs": [
    {
     "name": "stderr",
     "output_type": "stream",
     "text": [
      "/home/varun/.local/lib/python3.10/site-packages/pytorch_lightning/callbacks/model_checkpoint.py:611: UserWarning: Checkpoint directory /run/media/varun/New Volume/Suggestion-Mining-from-Noisy-Data/src_feat/saved_weights exists and is not empty.\n",
      "  rank_zero_warn(f\"Checkpoint directory {dirpath} exists and is not empty.\")\n",
      "LOCAL_RANK: 0 - CUDA_VISIBLE_DEVICES: [0]\n",
      "\n",
      "  | Name       | Type      | Params\n",
      "-----------------------------------------\n",
      "0 | embedding1 | Embedding | 612 K \n",
      "1 | embedding2 | Embedding | 640   \n",
      "2 | cell1      | LSTM      | 1.1 M \n",
      "3 | cell2      | LSTM      | 165 K \n",
      "4 | fc         | Linear    | 4.1 K \n",
      "5 | crf        | CRF       | 80    \n",
      "6 | dropout    | Dropout   | 0     \n",
      "-----------------------------------------\n",
      "1.8 M     Trainable params\n",
      "0         Non-trainable params\n",
      "1.8 M     Total params\n",
      "3.676     Total estimated model params size (MB)\n"
     ]
    },
    {
     "data": {
      "application/vnd.jupyter.widget-view+json": {
       "model_id": "41d52b03af6b4e4fa384db88b6dfd34f",
       "version_major": 2,
       "version_minor": 0
      },
      "text/plain": [
       "Sanity Checking: 0it [00:00, ?it/s]"
      ]
     },
     "metadata": {},
     "output_type": "display_data"
    },
    {
     "data": {
      "application/vnd.jupyter.widget-view+json": {
       "model_id": "a7ce804355eb4fda8fd179a3854838b9",
       "version_major": 2,
       "version_minor": 0
      },
      "text/plain": [
       "Training: 0it [00:00, ?it/s]"
      ]
     },
     "metadata": {},
     "output_type": "display_data"
    },
    {
     "name": "stderr",
     "output_type": "stream",
     "text": [
      "/home/varun/.local/lib/python3.10/site-packages/pytorch_ranger/ranger.py:172: UserWarning: This overload of addcmul_ is deprecated:\n",
      "\taddcmul_(Number value, Tensor tensor1, Tensor tensor2)\n",
      "Consider using one of the following signatures instead:\n",
      "\taddcmul_(Tensor tensor1, Tensor tensor2, *, Number value) (Triggered internally at  ../torch/csrc/utils/python_arg_parser.cpp:1174.)\n",
      "  exp_avg_sq.mul_(beta2).addcmul_(1 - beta2, grad, grad)\n"
     ]
    },
    {
     "data": {
      "application/vnd.jupyter.widget-view+json": {
       "model_id": "0faab3f369ec4d7380a72a26b8ec56cc",
       "version_major": 2,
       "version_minor": 0
      },
      "text/plain": [
       "Validation: 0it [00:00, ?it/s]"
      ]
     },
     "metadata": {},
     "output_type": "display_data"
    },
    {
     "data": {
      "application/vnd.jupyter.widget-view+json": {
       "model_id": "66bd8260258d4a31886d026e973efb84",
       "version_major": 2,
       "version_minor": 0
      },
      "text/plain": [
       "Validation: 0it [00:00, ?it/s]"
      ]
     },
     "metadata": {},
     "output_type": "display_data"
    },
    {
     "data": {
      "application/vnd.jupyter.widget-view+json": {
       "model_id": "1305547309ab4ae0ab0e14f8d2b0eade",
       "version_major": 2,
       "version_minor": 0
      },
      "text/plain": [
       "Validation: 0it [00:00, ?it/s]"
      ]
     },
     "metadata": {},
     "output_type": "display_data"
    },
    {
     "data": {
      "application/vnd.jupyter.widget-view+json": {
       "model_id": "97d3cf1fd2dc47778fc77c3c3652e982",
       "version_major": 2,
       "version_minor": 0
      },
      "text/plain": [
       "Validation: 0it [00:00, ?it/s]"
      ]
     },
     "metadata": {},
     "output_type": "display_data"
    },
    {
     "data": {
      "application/vnd.jupyter.widget-view+json": {
       "model_id": "bf30275924a446bb95f180a2a01535d5",
       "version_major": 2,
       "version_minor": 0
      },
      "text/plain": [
       "Validation: 0it [00:00, ?it/s]"
      ]
     },
     "metadata": {},
     "output_type": "display_data"
    },
    {
     "data": {
      "application/vnd.jupyter.widget-view+json": {
       "model_id": "b159fe1733d94671a5ed901022b27ef7",
       "version_major": 2,
       "version_minor": 0
      },
      "text/plain": [
       "Validation: 0it [00:00, ?it/s]"
      ]
     },
     "metadata": {},
     "output_type": "display_data"
    },
    {
     "data": {
      "application/vnd.jupyter.widget-view+json": {
       "model_id": "0b84c1a520c640cdb4201063ad582455",
       "version_major": 2,
       "version_minor": 0
      },
      "text/plain": [
       "Validation: 0it [00:00, ?it/s]"
      ]
     },
     "metadata": {},
     "output_type": "display_data"
    },
    {
     "data": {
      "application/vnd.jupyter.widget-view+json": {
       "model_id": "55b81d7f07be45daa36bae192df50469",
       "version_major": 2,
       "version_minor": 0
      },
      "text/plain": [
       "Validation: 0it [00:00, ?it/s]"
      ]
     },
     "metadata": {},
     "output_type": "display_data"
    },
    {
     "data": {
      "application/vnd.jupyter.widget-view+json": {
       "model_id": "9e86f6bd84554f9eb10ac2b7772ab97b",
       "version_major": 2,
       "version_minor": 0
      },
      "text/plain": [
       "Validation: 0it [00:00, ?it/s]"
      ]
     },
     "metadata": {},
     "output_type": "display_data"
    },
    {
     "data": {
      "application/vnd.jupyter.widget-view+json": {
       "model_id": "d44cc164353348159e2126a89029cc22",
       "version_major": 2,
       "version_minor": 0
      },
      "text/plain": [
       "Validation: 0it [00:00, ?it/s]"
      ]
     },
     "metadata": {},
     "output_type": "display_data"
    },
    {
     "data": {
      "application/vnd.jupyter.widget-view+json": {
       "model_id": "f8778085ec254facabccf1d964635c29",
       "version_major": 2,
       "version_minor": 0
      },
      "text/plain": [
       "Validation: 0it [00:00, ?it/s]"
      ]
     },
     "metadata": {},
     "output_type": "display_data"
    },
    {
     "data": {
      "application/vnd.jupyter.widget-view+json": {
       "model_id": "e37f14f5691945018e051264716b46f8",
       "version_major": 2,
       "version_minor": 0
      },
      "text/plain": [
       "Validation: 0it [00:00, ?it/s]"
      ]
     },
     "metadata": {},
     "output_type": "display_data"
    },
    {
     "data": {
      "application/vnd.jupyter.widget-view+json": {
       "model_id": "672aca1bb5f0471e96abe9547d86294b",
       "version_major": 2,
       "version_minor": 0
      },
      "text/plain": [
       "Validation: 0it [00:00, ?it/s]"
      ]
     },
     "metadata": {},
     "output_type": "display_data"
    },
    {
     "data": {
      "application/vnd.jupyter.widget-view+json": {
       "model_id": "6e2772b2511544138acbbe3f2e6db9f3",
       "version_major": 2,
       "version_minor": 0
      },
      "text/plain": [
       "Validation: 0it [00:00, ?it/s]"
      ]
     },
     "metadata": {},
     "output_type": "display_data"
    },
    {
     "data": {
      "application/vnd.jupyter.widget-view+json": {
       "model_id": "1c4a6a1356d64e54817f859e16c8b18e",
       "version_major": 2,
       "version_minor": 0
      },
      "text/plain": [
       "Validation: 0it [00:00, ?it/s]"
      ]
     },
     "metadata": {},
     "output_type": "display_data"
    },
    {
     "data": {
      "application/vnd.jupyter.widget-view+json": {
       "model_id": "de6e2600cb6c43f0812ccbb9c46130f8",
       "version_major": 2,
       "version_minor": 0
      },
      "text/plain": [
       "Validation: 0it [00:00, ?it/s]"
      ]
     },
     "metadata": {},
     "output_type": "display_data"
    },
    {
     "data": {
      "application/vnd.jupyter.widget-view+json": {
       "model_id": "2454013cd46c41e8a06ff98799d4acba",
       "version_major": 2,
       "version_minor": 0
      },
      "text/plain": [
       "Validation: 0it [00:00, ?it/s]"
      ]
     },
     "metadata": {},
     "output_type": "display_data"
    },
    {
     "data": {
      "application/vnd.jupyter.widget-view+json": {
       "model_id": "2d3225cda1884ba68c599b89dc3c935a",
       "version_major": 2,
       "version_minor": 0
      },
      "text/plain": [
       "Validation: 0it [00:00, ?it/s]"
      ]
     },
     "metadata": {},
     "output_type": "display_data"
    },
    {
     "data": {
      "application/vnd.jupyter.widget-view+json": {
       "model_id": "beac30bbdb4646138b41e3252056396f",
       "version_major": 2,
       "version_minor": 0
      },
      "text/plain": [
       "Validation: 0it [00:00, ?it/s]"
      ]
     },
     "metadata": {},
     "output_type": "display_data"
    },
    {
     "data": {
      "application/vnd.jupyter.widget-view+json": {
       "model_id": "f9ee5934bff645ba931b26c6fd096869",
       "version_major": 2,
       "version_minor": 0
      },
      "text/plain": [
       "Validation: 0it [00:00, ?it/s]"
      ]
     },
     "metadata": {},
     "output_type": "display_data"
    }
   ],
   "source": [
    "trainer.fit(model)"
   ]
  },
  {
   "cell_type": "code",
   "execution_count": 10,
   "id": "65c04fa8",
   "metadata": {},
   "outputs": [
    {
     "name": "stderr",
     "output_type": "stream",
     "text": [
      "LOCAL_RANK: 0 - CUDA_VISIBLE_DEVICES: [0]\n"
     ]
    },
    {
     "data": {
      "application/vnd.jupyter.widget-view+json": {
       "model_id": "aace08eb78bb4c639bd76566e41e13a8",
       "version_major": 2,
       "version_minor": 0
      },
      "text/plain": [
       "Testing: 0it [00:00, ?it/s]"
      ]
     },
     "metadata": {},
     "output_type": "display_data"
    },
    {
     "name": "stdout",
     "output_type": "stream",
     "text": [
      "────────────────────────────────────────────────────────────────────────────────────────────────────────────────────────\n",
      "       Test metric             DataLoader 0\n",
      "────────────────────────────────────────────────────────────────────────────────────────────────────────────────────────\n",
      "      test_f1score          0.4103581916022212\n",
      "        test_loss            580.5653686523438\n",
      "     test_precision         0.39743048644032963\n",
      "       test_recall          0.42509494792847535\n",
      "────────────────────────────────────────────────────────────────────────────────────────────────────────────────────────\n"
     ]
    },
    {
     "data": {
      "text/plain": [
       "[{'test_loss': 580.5653686523438,\n",
       "  'test_recall': 0.42509494792847535,\n",
       "  'test_precision': 0.39743048644032963,\n",
       "  'test_f1score': 0.4103581916022212}]"
      ]
     },
     "execution_count": 10,
     "metadata": {},
     "output_type": "execute_result"
    }
   ],
   "source": [
    "model.load_state_dict(torch.load(f\"../saved_weights/{MODEL_NAME}-v1.ckpt\")[\"state_dict\"])\n",
    "trainer.test(model)"
   ]
  },
  {
   "cell_type": "code",
   "execution_count": null,
   "id": "40f43a3c",
   "metadata": {},
   "outputs": [],
   "source": []
  }
 ],
 "metadata": {
  "kernelspec": {
   "display_name": "Python 3.10.5 64-bit",
   "language": "python",
   "name": "python3"
  },
  "language_info": {
   "codemirror_mode": {
    "name": "ipython",
    "version": 3
   },
   "file_extension": ".py",
   "mimetype": "text/x-python",
   "name": "python",
   "nbconvert_exporter": "python",
   "pygments_lexer": "ipython3",
   "version": "3.10.5"
  },
  "vscode": {
   "interpreter": {
    "hash": "e7370f93d1d0cde622a1f8e1c04877d8463912d04d973331ad4851f04de6915a"
   }
  }
 },
 "nbformat": 4,
 "nbformat_minor": 5
}
