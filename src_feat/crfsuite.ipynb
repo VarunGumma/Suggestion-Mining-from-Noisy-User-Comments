{
 "cells": [
  {
   "cell_type": "code",
   "execution_count": null,
   "metadata": {},
   "outputs": [],
   "source": [
    "# import statements\n",
    "import spacy\n",
    "import pandas as pd\n",
    "from pycrfsuite import Trainer, Tagger\n",
    "from metrics import f1score\n",
    "from sklearn.metrics import classification_report\n",
    "from collections import Counter\n",
    "from itertools import chain"
   ]
  },
  {
   "cell_type": "code",
   "execution_count": null,
   "metadata": {},
   "outputs": [],
   "source": [
    "# run the following command in the terminal if you are running the code for the first time after installing spacy\n",
    "# python3 -m spacy download en_core_web_sm\n",
    "\n",
    "# create a spacy object to use for pos-tagging\n",
    "nlp = spacy.load(\"en_core_web_sm\")"
   ]
  },
  {
   "cell_type": "code",
   "execution_count": null,
   "metadata": {},
   "outputs": [],
   "source": [
    "# function to read csv files which contains python output literals\n",
    "def read_data(fname):\n",
    "    data = pd.read_csv(fname, \n",
    "                       sep=' ',\n",
    "                       header=None,\n",
    "                       names=['a', 'b', 'c'],\n",
    "                       encoding=\"utf-8\",\n",
    "                       converters={'a': pd.eval, \n",
    "                                   'b': pd.eval})\n",
    "\n",
    "    # generate pos-tags for each of the words in the text\n",
    "    pos_tags = [[token.pos_ for token in nlp(' '.join(s))] for s in data['a']]\n",
    "    # label indicates the Name-Entity (BIOES)\n",
    "    labels = [[l.split('-')[0] for l in labels] for labels in data['b']]\n",
    "\n",
    "    # return a list of list of tuples, i.e. (word, pos-tag, label)\n",
    "    return [[(w, p, l) for (w, p, l) in zip(words, pos, lbls)] for (words, pos, lbls) in zip(data['a'], pos_tags, labels)]"
   ]
  },
  {
   "cell_type": "code",
   "execution_count": null,
   "metadata": {},
   "outputs": [],
   "source": [
    "# convert words to features for the crf\n",
    "def word2features(sent, i):\n",
    "    # each element of sent is a tuple (word, pos-tag, label)\n",
    "    # returns a list of 3 elements (features for current word, previous word and next word)\n",
    "    word = sent[i][0]\n",
    "    postag = sent[i][1]\n",
    "\n",
    "    # features:\n",
    "    #     1. is the word in lowercase\n",
    "    #     2. last 3 characters of the word (for identifying -ing forms)\n",
    "    #     3. last 2 characters of the word (for identifying -ed forms)\n",
    "    #     4. is the word in uppercase\n",
    "    #     5. is the word a title\n",
    "    #     6. is the word a digit\n",
    "    #     7. postag of the word\n",
    "    #     8. postag till the last two characters\n",
    "\n",
    "    features = [\n",
    "        'bias',\n",
    "        f'word.lower={word.lower()}',\n",
    "        f'word[-3:]={word[-3:]}',\n",
    "        f'word[-2:]={word[-2:]}',\n",
    "        f'word.isupper={word.isupper()}',\n",
    "        f'word.istitle={word.istitle()}',\n",
    "        f'word.isdigit={word.isdigit()}',\n",
    "        f'postag={postag}',\n",
    "        f'postag[:2]={postag[:2]}'\n",
    "    ]\n",
    "    if i > 0:\n",
    "        word1 = sent[i-1][0]\n",
    "        postag1 = sent[i-1][1]\n",
    "        features.extend([\n",
    "            f'-1:word.lower={word1.lower()}',\n",
    "            f'-1:word.istitle={word1.istitle()}',\n",
    "            f'-1:word.isupper={word1.isupper()}',\n",
    "            f'-1:postag={postag1}',\n",
    "            f'-1:postag[:2]={postag1[:2]}'\n",
    "        ])\n",
    "    else:\n",
    "        # if the word is the first word, the feature is BOS\n",
    "        features.append('BOS')\n",
    "        \n",
    "    if i < len(sent)-1:\n",
    "        word1 = sent[i+1][0]\n",
    "        postag1 = sent[i+1][1]\n",
    "        features.extend([\n",
    "            f'+1:word.lower={word1.lower()}',\n",
    "            f'+1:word.istitle={word1.istitle()}',\n",
    "            f'+1:word.isupper={word1.isupper()}',\n",
    "            f'+1:postag={postag1}',\n",
    "            f'+1:postag[:2]={postag1[:2]}',\n",
    "        ])\n",
    "    else:\n",
    "        # if the feature is the last word, the feature is EOS\n",
    "        features.append('EOS')\n",
    "                \n",
    "    return features\n",
    "\n",
    "# convert each sentence to wordwise-features\n",
    "def sent2features(sent):\n",
    "    return [word2features(sent, i) for i in range(len(sent))]\n",
    "\n",
    "# extract all labels from the sentences\n",
    "def sent2labels(sent):\n",
    "    return [label for (_, _, label) in sent]"
   ]
  },
  {
   "cell_type": "code",
   "execution_count": null,
   "metadata": {},
   "outputs": [],
   "source": [
    "# a function to visualize the classification model\n",
    "# omits the 'O's while computing the metrics as they are too many and distort the true-results\n",
    "# true-results: metrics related to features only (BIES)\n",
    "def _classification_report(y_true, y_pred):\n",
    "    tagset = {'B': 0, 'I': 1, 'O': 2, 'E': 3, 'S': 4}\n",
    "    # convert the the character labels to integers for computing the metrics\n",
    "    y_true = [[tagset[i] for i in y] for y in y_true]\n",
    "    y_pred = [[tagset[i] for i in yp] for yp in y_pred]\n",
    "    \n",
    "    r, p, f1 = f1score(y_true, y_pred)\n",
    "    print(f\"featurewise_f1_score: {f1:.4f}\")\n",
    "    print(f\"featurewise_recall_score: {r:.4f}\")\n",
    "    print(f\"featurewise_precision_score: {p:.4f}\\n\\n\")\n",
    "    \n",
    "    # flatten all predictions into a single list for computing the metrics\n",
    "    y_true = list(chain.from_iterable(y_true))\n",
    "    y_pred = list(chain.from_iterable(y_pred))\n",
    "    \n",
    "    return classification_report(y_true,\n",
    "                                 y_pred,\n",
    "                                 zero_division=0,\n",
    "                                 labels=[0, 1, 3, 4],\n",
    "                                 target_names=['B', 'I', 'E', 'S'])"
   ]
  },
  {
   "cell_type": "code",
   "execution_count": null,
   "metadata": {},
   "outputs": [],
   "source": [
    "# read all data from the files\n",
    "train_sents = read_data(\"../data/train_290818.txt\")\n",
    "test_sents = read_data(\"../data/test_290818.txt\")"
   ]
  },
  {
   "cell_type": "code",
   "execution_count": null,
   "metadata": {},
   "outputs": [],
   "source": [
    "# convert the sentences to features\n",
    "X_train = [sent2features(s) for s in train_sents]\n",
    "X_test = [sent2features(s) for s in test_sents]\n",
    "\n",
    "# extract the labels from the sentences\n",
    "y_train = [sent2labels(s) for s in train_sents]\n",
    "y_test = [sent2labels(s) for s in train_sents]"
   ]
  },
  {
   "cell_type": "code",
   "execution_count": null,
   "metadata": {},
   "outputs": [],
   "source": [
    "# python-crfsuite object\n",
    "trainer = Trainer(verbose=False)\n",
    "\n",
    "# add the training data to the crf model\n",
    "for batch in zip(X_train, y_train):\n",
    "    trainer.append(*batch)"
   ]
  },
  {
   "cell_type": "code",
   "execution_count": null,
   "metadata": {},
   "outputs": [],
   "source": [
    "# hyperparameters for the model\n",
    "trainer.set_params({\n",
    "    'feature.minfreq': 1,\n",
    "    'num_memories': 6,\n",
    "    'linesearch': 'StrongBacktracking',\n",
    "    'max_linesearch': 20,\n",
    "    'c1': 1e-1,\n",
    "    'c2': 1e-1,\n",
    "    'max_iterations': 2048, \n",
    "    'feature.possible_transitions': True,\n",
    "    'feature.possible_states': True,\n",
    "})\n",
    "\n",
    "\n",
    "# train the model and save the weights in the file '290818.crfsuite'\n",
    "trainer.train('290818.crfsuite')\n",
    "\n",
    "# print the final training iteration metrics for visualization\n",
    "print(trainer.logparser.last_iteration)"
   ]
  },
  {
   "cell_type": "markdown",
   "metadata": {},
   "source": [
    "## Make predictions"
   ]
  },
  {
   "cell_type": "code",
   "execution_count": null,
   "metadata": {},
   "outputs": [],
   "source": [
    "# create an inference model from the saved weights\n",
    "tagger = Tagger()\n",
    "tagger.open('290818.crfsuite')\n",
    "\n",
    "# get the predictions for the test data\n",
    "y_pred = [tagger.tag(xseq) for xseq in X_test]\n",
    "y_test = [sent2labels(xseq) for xseq in test_sents]\n",
    "\n",
    "# visualize the classification metrics\n",
    "print(_classification_report(y_test, y_pred))"
   ]
  }
 ],
 "metadata": {
  "kernelspec": {
   "display_name": "Python 3.10.5 64-bit",
   "language": "python",
   "name": "python3"
  },
  "language_info": {
   "codemirror_mode": {
    "name": "ipython",
    "version": 3
   },
   "file_extension": ".py",
   "mimetype": "text/x-python",
   "name": "python",
   "nbconvert_exporter": "python",
   "pygments_lexer": "ipython3",
   "version": "3.10.5"
  },
  "vscode": {
   "interpreter": {
    "hash": "7a2000831a5050d8503f24d6733c4641a8734e9c81b6dced7c2deb928c6c3201"
   }
  }
 },
 "nbformat": 4,
 "nbformat_minor": 1
}
