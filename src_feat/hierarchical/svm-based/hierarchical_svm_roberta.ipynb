{
 "cells": [
  {
   "cell_type": "markdown",
   "metadata": {},
   "source": [
    "### Import Statements"
   ]
  },
  {
   "cell_type": "code",
   "execution_count": null,
   "metadata": {},
   "outputs": [],
   "source": [
    "from sys import path\n",
    "from os.path import dirname, abspath\n",
    "path.append(dirname(dirname(dirname(abspath(\"__file__\")))))"
   ]
  },
  {
   "cell_type": "code",
   "execution_count": null,
   "metadata": {},
   "outputs": [],
   "source": [
    "# for NER model\n",
    "from transformers import AutoModel\n",
    "from torchcrf import CRF\n",
    "import torch\n",
    "import torch.nn as nn\n",
    "import torch.nn.functional as F\n",
    "from torch.utils.data import DataLoader, TensorDataset\n",
    "from scripts.utils_bert import *\n",
    "from scripts.metrics import f1score\n",
    "import pytorch_lightning as pl\n",
    "from multiprocessing import cpu_count\n",
    "from platform import system\n",
    "from os import environ\n",
    "from pickle import load\n",
    "\n",
    "# for classification model\n",
    "import pandas as pd\n",
    "from sklearn.svm import SVC\n",
    "from sklearn.metrics import classification_report, f1_score\n",
    "from sklearn.feature_extraction.text import TfidfVectorizer\n",
    "\n",
    "# set the environment to run tokenizers in parallel\n",
    "environ[\"TOKENIZERS_PARALLELISM\"] = \"false\"\n",
    "pl.seed_everything(seed=42)"
   ]
  },
  {
   "cell_type": "markdown",
   "metadata": {},
   "source": [
    "### NER Model (Definition)\n",
    "#### NER model is only used in inference mode by loading the saved_weights\n",
    "#### Hence, all training elements of the model can be removed"
   ]
  },
  {
   "cell_type": "code",
   "execution_count": null,
   "metadata": {},
   "outputs": [],
   "source": [
    "BATCH_SIZE = 32\n",
    "N_JOBS = cpu_count() if system() != \"Windows\" else 0\n",
    "\n",
    "BERT_TYPE = \"roberta-base\"\n",
    "TAG2IDX = {'B': 0, 'I': 1, 'O': 2, 'E': 3, 'S': 4, '<': 5, \">\":6, \"$\": 7}"
   ]
  },
  {
   "cell_type": "code",
   "execution_count": null,
   "metadata": {},
   "outputs": [],
   "source": [
    "class BERT_NER(pl.LightningModule):\n",
    "    def __init__(self, \n",
    "                 bert_type=BERT_TYPE, \n",
    "                 num_tags=len(TAG2IDX),\n",
    "                 test_dataset=None):\n",
    "        \n",
    "        super().__init__()\n",
    "        self.bert = AutoModel.from_pretrained(bert_type)\n",
    "        self.crf = CRF(num_tags=num_tags, batch_first=True)\n",
    "        self.fc = nn.Linear(768, num_tags)\n",
    "        ## Hyperparameters ##\n",
    "        self.batch_size = BATCH_SIZE\n",
    "        ## Datasets ##\n",
    "        self.test_dataset = test_dataset\n",
    "\n",
    "\n",
    "    def test_dataloader(self):\n",
    "        return DataLoader(self.test_dataset, \n",
    "                          batch_size=self.batch_size,\n",
    "                          num_workers=N_JOBS,\n",
    "                          shuffle=False,\n",
    "                          drop_last=False)\n",
    "    \n",
    "\n",
    "    def forward(self, input_ids, attention_masks):\n",
    "        out = self.bert(input_ids, attention_masks).last_hidden_state\n",
    "        out = self.fc(out)\n",
    "        return out\n",
    "\n",
    "    \n",
    "    def _shared_evaluation_step(self, batch, batch_idx):\n",
    "        ids, masks, lbls = batch\n",
    "        emissions = self(ids, masks)\n",
    "        loss = -self.crf(emissions, lbls, mask=masks)\n",
    "        pred = self.crf.decode(emissions, mask=masks)\n",
    "        r, p, f1 = f1score(lbls, pred, model=\"transformer\")\n",
    "        return loss, r, p, f1\n",
    "    \n",
    "\n",
    "    def test_step(self, batch, batch_idx):\n",
    "        loss, r, p, f1 = self._shared_evaluation_step(batch, batch_idx)\n",
    "        self.log(\"test_loss\", loss, on_step=False, on_epoch=True, prog_bar=True)\n",
    "        self.log(\"test_recall\", r, on_step=False, on_epoch=True, prog_bar=True)\n",
    "        self.log(\"test_precision\", p, on_step=False, on_epoch=True, prog_bar=True)\n",
    "        self.log(\"test_f1score\", f1, on_step=False, on_epoch=True, prog_bar=True)"
   ]
  },
  {
   "cell_type": "markdown",
   "metadata": {},
   "source": [
    "### Use TF-IDF_SVM Model for predicting Suggestions"
   ]
  },
  {
   "cell_type": "code",
   "execution_count": null,
   "metadata": {},
   "outputs": [],
   "source": [
    "with open(\"../../../src_sug/saved_weights/tfidf_vectorizer_ner.pkl\", 'rb') as f:\n",
    "    vectorizer = load(f)\n",
    "\n",
    "with open(\"../../../src_sug/saved_weights/svc_ner.pkl\", 'rb') as f:\n",
    "    svc_classifier = load(f)"
   ]
  },
  {
   "cell_type": "code",
   "execution_count": null,
   "metadata": {},
   "outputs": [],
   "source": [
    "df_ner_train = pd.read_csv(\"../../../data/train_290818.txt\", \n",
    "                           sep=' ',\n",
    "                           header=None,\n",
    "                           names=['a', 'b', 'c'],\n",
    "                           encoding=\"utf-8\",\n",
    "                           converters={'a': pd.eval, \n",
    "                                       'b': pd.eval})\n",
    "\n",
    "df_ner_train['c'] = df_ner_train['c'].apply(lambda x: 0 if not x else 1)\n",
    "df_ner_train['a'] = df_ner_train['a'].apply(lambda x: ' '.join(x))\n",
    "\n",
    "Xtrain_ner = vectorizer.fit_transform([x for x in df_ner_train['a']])\n",
    "ytrain_ner = df_ner_train['c'].to_numpy()"
   ]
  },
  {
   "cell_type": "code",
   "execution_count": null,
   "metadata": {},
   "outputs": [],
   "source": [
    "svc_classifier.fit(Xtrain_ner, ytrain_ner)"
   ]
  },
  {
   "cell_type": "code",
   "execution_count": null,
   "metadata": {},
   "outputs": [],
   "source": [
    "df_ner_test = pd.read_csv(\"../../../data/test_290818.txt\", \n",
    "                          sep=' ',\n",
    "                          header=None,\n",
    "                          names=['a', 'b', 'c'],\n",
    "                          encoding=\"utf-8\",\n",
    "                          converters={'a': pd.eval, \n",
    "                                      'b': pd.eval})\n",
    "\n",
    "df_ner_test['c'] = df_ner_test['c'].apply(lambda x: 0 if not x else 1)\n",
    "df_ner_test['a'] = df_ner_test['a'].apply(lambda x: ' '.join(x))\n",
    "\n",
    "Xtest_ner = vectorizer.transform([x for x in df_ner_test['a']])\n",
    "ytest_ner = df_ner_test['c'].to_numpy()"
   ]
  },
  {
   "cell_type": "code",
   "execution_count": null,
   "metadata": {},
   "outputs": [],
   "source": [
    "ypred_ner = svc_classifier.predict(Xtest_ner)\n",
    "print(f\"test f1_score (NER): {f1_score(ytest_ner, ypred_ner, zero_division=0):.4f}\\n\")\n",
    "print(classification_report(ytest_ner, ypred_ner, target_names=['Positive', 'Negative'], digits=4))"
   ]
  },
  {
   "cell_type": "markdown",
   "metadata": {},
   "source": [
    "### Use the sentences which are predicted to have a Suggestion as input to NER Model"
   ]
  },
  {
   "cell_type": "code",
   "execution_count": null,
   "metadata": {},
   "outputs": [],
   "source": [
    "sug_idx = torch.LongTensor([i for (i, y) in enumerate(ypred_ner) if y == 1])"
   ]
  },
  {
   "cell_type": "code",
   "execution_count": null,
   "metadata": {},
   "outputs": [],
   "source": [
    "# similarly read the test data and create the dataset\n",
    "encoded_input, extended_labels = get_encoded_input(\"../../../data/test_290818.txt\", \n",
    "                                                   tag2idx=TAG2IDX, \n",
    "                                                   tokenizer_name=BERT_TYPE)\n",
    "\n",
    "test_dataset = TensorDataset(torch.index_select(torch.LongTensor(encoded_input[\"input_ids\"]), dim=0, index=sug_idx),\n",
    "                             torch.index_select(torch.BoolTensor(encoded_input[\"attention_mask\"]), dim=0, index=sug_idx),\n",
    "                             torch.index_select(torch.LongTensor(extended_labels), dim=0, index=sug_idx))"
   ]
  },
  {
   "cell_type": "code",
   "execution_count": null,
   "metadata": {},
   "outputs": [],
   "source": [
    "model = BERT_NER(bert_type=BERT_TYPE,\n",
    "                 test_dataset=test_dataset)\n",
    "\n",
    "trainer = pl.Trainer(accelerator=\"gpu\",\n",
    "                     precision=16,\n",
    "                     log_every_n_steps=1)"
   ]
  },
  {
   "cell_type": "code",
   "execution_count": null,
   "metadata": {},
   "outputs": [],
   "source": [
    "model.load_state_dict(torch.load(f\"../../saved_weights/{BERT_TYPE}-ner.ckpt\")[\"state_dict\"])\n",
    "trainer.test(model)"
   ]
  }
 ],
 "metadata": {
  "kernelspec": {
   "display_name": "Python 3.10.5 64-bit",
   "language": "python",
   "name": "python3"
  },
  "language_info": {
   "codemirror_mode": {
    "name": "ipython",
    "version": 3
   },
   "file_extension": ".py",
   "mimetype": "text/x-python",
   "name": "python",
   "nbconvert_exporter": "python",
   "pygments_lexer": "ipython3",
   "version": "3.10.5"
  },
  "vscode": {
   "interpreter": {
    "hash": "7a2000831a5050d8503f24d6733c4641a8734e9c81b6dced7c2deb928c6c3201"
   }
  }
 },
 "nbformat": 4,
 "nbformat_minor": 2
}
