{
 "cells": [
  {
   "cell_type": "code",
   "execution_count": null,
   "id": "ba4acd5c",
   "metadata": {},
   "outputs": [],
   "source": [
    "import pandas as pd\n",
    "from sklearn.naive_bayes import MultinomialNB\n",
    "from sklearn.metrics import classification_report, f1_score\n",
    "from sklearn.feature_extraction.text import TfidfVectorizer\n",
    "from pickle import dump, load"
   ]
  },
  {
   "cell_type": "code",
   "execution_count": null,
   "id": "57c170c9",
   "metadata": {},
   "outputs": [],
   "source": [
    "with open(\"./saved_weights/tfidf_vectorizer_sug.pkl\", 'rb') as f:\n",
    "    vectorizer = load(f)\n",
    "\n",
    "nb_classifier = MultinomialNB()"
   ]
  },
  {
   "cell_type": "code",
   "execution_count": null,
   "id": "0c07c84e",
   "metadata": {},
   "outputs": [],
   "source": [
    "df = pd.read_csv(\"../data/App_Training.csv\", names=[\"sno\", \"id\", \"text\", \"lbl\"])\n",
    "Xtrain = vectorizer.transform([x.strip() for x in df[\"text\"]])\n",
    "ytrain = df[\"lbl\"].to_numpy()"
   ]
  },
  {
   "cell_type": "code",
   "execution_count": null,
   "id": "86726b0a",
   "metadata": {},
   "outputs": [],
   "source": [
    "nb_classifier.fit(Xtrain, ytrain)"
   ]
  },
  {
   "cell_type": "code",
   "execution_count": null,
   "id": "a02a9341",
   "metadata": {},
   "outputs": [],
   "source": [
    "df = pd.read_csv(\"../data/App_Test_Labeled.csv\", names=[\"sno\", \"id\", \"text\", \"lbl\"])\n",
    "Xtest = vectorizer.transform([x.strip() for x in df[\"text\"]])\n",
    "ytest = df[\"lbl\"].to_numpy()"
   ]
  },
  {
   "cell_type": "code",
   "execution_count": null,
   "id": "41b39434",
   "metadata": {},
   "outputs": [],
   "source": [
    "ypred = nb_classifier.predict(Xtest)\n",
    "print(f\"test f1_score (SUG): {f1_score(ytest, ypred, zero_division=0):.4f}\\n\")\n",
    "print(classification_report(ytest, ypred, target_names=['Positive', 'Negative'], digits=4))"
   ]
  },
  {
   "cell_type": "code",
   "execution_count": null,
   "id": "aefb026b",
   "metadata": {},
   "outputs": [],
   "source": [
    "# SAVE THE SVC and TF-IDF for future use\n",
    "with open(\"./saved_weights/nb_sug.pkl\", 'wb') as f:\n",
    "    dump(nb_classifier, f)"
   ]
  },
  {
   "cell_type": "markdown",
   "id": "acb31aa1",
   "metadata": {},
   "source": [
    "# Use NER Data and perform Suggestion Classification"
   ]
  },
  {
   "cell_type": "code",
   "execution_count": null,
   "id": "28b5f4fc",
   "metadata": {},
   "outputs": [],
   "source": [
    "with open(\"./saved_weights/tfidf_vectorizer_ner.pkl\", 'rb') as f:\n",
    "    vectorizer = load(f)\n",
    "    \n",
    "nb_classifier = MultinomialNB()"
   ]
  },
  {
   "cell_type": "code",
   "execution_count": null,
   "id": "aebed666",
   "metadata": {},
   "outputs": [],
   "source": [
    "df_ner = pd.read_csv(\"../data/train_290818.txt\", \n",
    "                     sep=' ',\n",
    "                     header=None,\n",
    "                     names=['a', 'b', 'c'],\n",
    "                     encoding=\"utf-8\",\n",
    "                     converters={'a': pd.eval, \n",
    "                                 'b': pd.eval})\n",
    "\n",
    "df_ner['c'] = df_ner['c'].apply(lambda x: 0 if not x else 1)\n",
    "df_ner['a'] = df_ner['a'].apply(lambda x: ' '.join(x))\n",
    "\n",
    "Xtrain_ner = vectorizer.transform([x for x in df_ner['a']])\n",
    "ytrain_ner = df_ner['c'].to_numpy()"
   ]
  },
  {
   "cell_type": "code",
   "execution_count": null,
   "id": "613888d1",
   "metadata": {},
   "outputs": [],
   "source": [
    "nb_classifier.fit(Xtrain_ner, ytrain_ner)"
   ]
  },
  {
   "cell_type": "code",
   "execution_count": null,
   "id": "4e7dc05f",
   "metadata": {},
   "outputs": [],
   "source": [
    "df_ner = pd.read_csv(\"../data/test_290818.txt\", \n",
    "                     sep=' ',\n",
    "                     header=None,\n",
    "                     names=['a', 'b', 'c'],\n",
    "                     encoding=\"utf-8\",\n",
    "                     converters={'a': pd.eval, \n",
    "                                 'b': pd.eval})\n",
    "\n",
    "df_ner['c'] = df_ner['c'].apply(lambda x: 0 if not x else 1)\n",
    "df_ner['a'] = df_ner['a'].apply(lambda x: ' '.join(x))\n",
    "\n",
    "Xtest_ner = vectorizer.transform([x for x in df_ner['a']])\n",
    "ytest_ner = df_ner['c'].to_numpy()"
   ]
  },
  {
   "cell_type": "code",
   "execution_count": null,
   "id": "78f6735d",
   "metadata": {},
   "outputs": [],
   "source": [
    "ypred_ner = nb_classifier.predict(Xtest_ner)\n",
    "print(f\"test f1_score (NER): {f1_score(ytest_ner, ypred_ner, zero_division=0):.4f}\\n\")\n",
    "print(classification_report(ytest_ner, ypred_ner, target_names=['Positive', 'Negative'], digits=4))"
   ]
  },
  {
   "cell_type": "code",
   "execution_count": null,
   "id": "d442286b",
   "metadata": {},
   "outputs": [],
   "source": [
    "# SAVE THE SVC and TF-IDF for future use\n",
    "with open(\"./saved_weights/nb_ner.pkl\", 'wb') as f:\n",
    "    dump(nb_classifier, f)"
   ]
  }
 ],
 "metadata": {
  "kernelspec": {
   "display_name": "Python 3.10.5 64-bit",
   "language": "python",
   "name": "python3"
  },
  "language_info": {
   "codemirror_mode": {
    "name": "ipython",
    "version": 3
   },
   "file_extension": ".py",
   "mimetype": "text/x-python",
   "name": "python",
   "nbconvert_exporter": "python",
   "pygments_lexer": "ipython3",
   "version": "3.10.7"
  },
  "vscode": {
   "interpreter": {
    "hash": "7a2000831a5050d8503f24d6733c4641a8734e9c81b6dced7c2deb928c6c3201"
   }
  }
 },
 "nbformat": 4,
 "nbformat_minor": 5
}
