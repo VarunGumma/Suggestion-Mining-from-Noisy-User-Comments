{
 "cells": [
  {
   "cell_type": "code",
   "execution_count": null,
   "id": "ba4acd5c",
   "metadata": {},
   "outputs": [],
   "source": [
    "import pandas as pd\n",
    "import seaborn as sns\n",
    "from sklearn.svm import SVC\n",
    "from sklearn.metrics import classification_report, f1_score\n",
    "from sklearn.feature_extraction.text import TfidfVectorizer\n",
    "import matplotlib.pyplot as plt\n",
    "from sklearn.manifold import TSNE\n",
    "from pickle import dump"
   ]
  },
  {
   "cell_type": "code",
   "execution_count": null,
   "id": "57c170c9",
   "metadata": {},
   "outputs": [],
   "source": [
    "vectorizer = TfidfVectorizer()\n",
    "svc_classifier = SVC(kernel=\"rbf\", class_weight=\"balanced\")"
   ]
  },
  {
   "cell_type": "code",
   "execution_count": null,
   "id": "0c07c84e",
   "metadata": {},
   "outputs": [],
   "source": [
    "df = pd.read_csv(\"../data/App_Training.csv\", names=[\"sno\", \"id\", \"text\", \"lbl\"])\n",
    "Xtrain = vectorizer.fit_transform([x.strip() for x in df[\"text\"]])\n",
    "ytrain = df[\"lbl\"].tolist()"
   ]
  },
  {
   "cell_type": "code",
   "execution_count": null,
   "id": "86726b0a",
   "metadata": {},
   "outputs": [],
   "source": [
    "svc_classifier.fit(Xtrain, ytrain)"
   ]
  },
  {
   "cell_type": "code",
   "execution_count": null,
   "id": "a02a9341",
   "metadata": {},
   "outputs": [],
   "source": [
    "df = pd.read_csv(\"../data/App_Test_Labeled.csv\", names=[\"sno\", \"id\", \"text\", \"lbl\"])\n",
    "Xtest = vectorizer.transform([x.strip() for x in df[\"text\"]])\n",
    "ytest = df[\"lbl\"].tolist()"
   ]
  },
  {
   "cell_type": "code",
   "execution_count": null,
   "id": "2b26e34c",
   "metadata": {},
   "outputs": [],
   "source": [
    "ypred = svc_classifier.predict(Xtest)\n",
    "print(f\"test f1_score (SUG): {f1_score(ytest, ypred, zero_division=0):.4f}\\n\")\n",
    "print(classification_report(ytest, ypred, target_names=['Positive', 'Negative'], digits=4))"
   ]
  },
  {
   "cell_type": "code",
   "execution_count": null,
   "id": "4428ede7",
   "metadata": {},
   "outputs": [],
   "source": [
    "# tsne = TSNE(n_components=2, \n",
    "#             learning_rate='auto',\n",
    "#             n_iter=5000,\n",
    "#             init='random',\n",
    "#             random_state=101,\n",
    "#             n_jobs=-1)\n",
    "\n",
    "# Xtrain_tsne = tsne.fit_transform(Xtrain)\n",
    "\n",
    "# df_tsne = pd.DataFrame()\n",
    "# df_tsne[\"y\"] = [(\"non-suggestion\" if not y else \"suggestion\") for y in ytrain]\n",
    "# df_tsne[\"comp-1\"] = Xtrain_tsne[:,0]\n",
    "# df_tsne[\"comp-2\"] = Xtrain_tsne[:,1]\n",
    "# markers = {\"non-suggestion\": \"s\", \"suggestion\": \"X\"}\n",
    "\n",
    "# fig = sns.scatterplot(x=\"comp-1\", \n",
    "#                       y=\"comp-2\", \n",
    "#                       hue=df_tsne.y.tolist(),\n",
    "#                       palette=['green','red'], \n",
    "#                       style=\"y\",\n",
    "#                       markers=markers,\n",
    "#                       data=df_tsne)\n",
    "\n",
    "# plt.legend(bbox_to_anchor=(1.02, 0.55), loc='upper left', borderaxespad=0)\n",
    "# fig.set(title=\"TF-IDF TSNE visualization (SUG Train)\") "
   ]
  },
  {
   "cell_type": "code",
   "execution_count": null,
   "id": "4778d701",
   "metadata": {},
   "outputs": [],
   "source": [
    "# tsne = TSNE(n_components=2, \n",
    "#             learning_rate='auto',\n",
    "#             n_iter=5000,\n",
    "#             init='random',\n",
    "#             random_state=101,\n",
    "#             n_jobs=-1)\n",
    "\n",
    "# Xtest_tsne = tsne.fit_transform(Xtest)\n",
    "\n",
    "# df_tsne = pd.DataFrame()\n",
    "# df_tsne[\"y\"] = [(\"non-suggestion\" if not y else \"suggestion\") for y in ytest]\n",
    "# df_tsne[\"comp-1\"] = Xtest_tsne[:,0]\n",
    "# df_tsne[\"comp-2\"] = Xtest_tsne[:,1]\n",
    "# markers = {\"non-suggestion\": \"s\", \"suggestion\": \"X\"}\n",
    "\n",
    "# fig = sns.scatterplot(x=\"comp-1\", \n",
    "#                       y=\"comp-2\", \n",
    "#                       hue=df_tsne.y.tolist(),\n",
    "#                       palette=['red','green'], \n",
    "#                       style=\"y\",\n",
    "#                       markers=markers,\n",
    "#                       data=df_tsne)\n",
    "\n",
    "# plt.legend(bbox_to_anchor=(1.02, 0.55), loc='upper left', borderaxespad=0)\n",
    "# fig.set(title=\"TF-IDF TSNE visualization (SUG Test)\") "
   ]
  },
  {
   "cell_type": "code",
   "execution_count": null,
   "id": "ad63b0b6",
   "metadata": {},
   "outputs": [],
   "source": [
    "# SAVE THE SVC and TF-IDF for future use\n",
    "with open(\"./saved_weights/tfidf_vectorizer_sug.pkl\", 'wb') as f:\n",
    "    vectorizer = dump(vectorizer, f)\n",
    "\n",
    "with open(\"./saved_weights/svc_sug.pkl\", 'wb') as f:\n",
    "    svc_classifier = dump(svc_classifier, f)"
   ]
  },
  {
   "cell_type": "markdown",
   "id": "81a19fba",
   "metadata": {},
   "source": [
    "# Use NER Data and perform Suggestion Classification"
   ]
  },
  {
   "cell_type": "code",
   "execution_count": null,
   "id": "c376280d",
   "metadata": {},
   "outputs": [],
   "source": [
    "vectorizer = TfidfVectorizer()\n",
    "svc_classifier = SVC(kernel=\"rbf\", class_weight=\"balanced\")"
   ]
  },
  {
   "cell_type": "code",
   "execution_count": null,
   "id": "c82f333e",
   "metadata": {},
   "outputs": [],
   "source": [
    "df_ner = pd.read_csv(\"../data/train_290818.txt\", \n",
    "                     sep=' ',\n",
    "                     header=None,\n",
    "                     names=['a', 'b', 'c'],\n",
    "                     encoding=\"utf-8\",\n",
    "                     converters={'a': pd.eval, \n",
    "                                 'b': pd.eval})\n",
    "\n",
    "df_ner['c'] = df_ner['c'].apply(lambda x: 0 if not x else 1)\n",
    "df_ner['a'] = df_ner['a'].apply(lambda x: ' '.join(x))\n",
    "\n",
    "Xtrain_ner = vectorizer.fit_transform([x for x in df_ner['a']])\n",
    "ytrain_ner = df_ner['c'].tolist()"
   ]
  },
  {
   "cell_type": "code",
   "execution_count": null,
   "id": "d5abcf8f",
   "metadata": {},
   "outputs": [],
   "source": [
    "svc_classifier.fit(Xtrain_ner, ytrain_ner)"
   ]
  },
  {
   "cell_type": "code",
   "execution_count": null,
   "id": "bd51d710",
   "metadata": {},
   "outputs": [],
   "source": [
    "df_ner = pd.read_csv(\"../data/test_290818.txt\", \n",
    "                     sep=' ',\n",
    "                     header=None,\n",
    "                     names=['a', 'b', 'c'],\n",
    "                     encoding=\"utf-8\",\n",
    "                     converters={'a': pd.eval, \n",
    "                                 'b': pd.eval})\n",
    "\n",
    "df_ner['c'] = df_ner['c'].apply(lambda x: 0 if not x else 1)\n",
    "df_ner['a'] = df_ner['a'].apply(lambda x: ' '.join(x))\n",
    "\n",
    "Xtest_ner = vectorizer.transform([x for x in df_ner['a']])\n",
    "ytest_ner = df_ner['c'].tolist()"
   ]
  },
  {
   "cell_type": "code",
   "execution_count": null,
   "id": "a44e91e8",
   "metadata": {},
   "outputs": [],
   "source": [
    "ypred_ner = svc_classifier.predict(Xtest_ner)\n",
    "print(f\"test f1_score (NER): {f1_score(ytest_ner, ypred_ner, zero_division=0):.4f}\\n\")\n",
    "print(classification_report(ytest_ner, ypred_ner, target_names=['Positive', 'Negative'], digits=4))"
   ]
  },
  {
   "cell_type": "code",
   "execution_count": null,
   "id": "c365321c",
   "metadata": {},
   "outputs": [],
   "source": [
    "# tsne = TSNE(n_components=2, \n",
    "#             learning_rate='auto',\n",
    "#             n_iter=5000,\n",
    "#             init='random',\n",
    "#             random_state=101,\n",
    "#             n_jobs=-1)\n",
    "\n",
    "# Xtrain_ner_tsne = tsne.fit_transform(Xtrain_ner)\n",
    "\n",
    "# df_ner_tsne = pd.DataFrame()\n",
    "# df_ner_tsne[\"y\"] = [(\"non-suggestion\" if not y else \"suggestion\") for y in ytrain_ner]\n",
    "# df_ner_tsne[\"comp-1\"] = Xtrain_ner_tsne[:,0]\n",
    "# df_ner_tsne[\"comp-2\"] = Xtrain_ner_tsne[:,1]\n",
    "# markers = {\"non-suggestion\": \"s\", \"suggestion\": \"X\"}\n",
    "\n",
    "# fig = sns.scatterplot(x=\"comp-1\", \n",
    "#                       y=\"comp-2\", \n",
    "#                       hue=df_ner_tsne.y.tolist(),\n",
    "#                       palette=['red','green'], \n",
    "#                       style=\"y\",\n",
    "#                       markers=markers,\n",
    "#                       data=df_ner_tsne)\n",
    "\n",
    "# plt.legend(bbox_to_anchor=(1.02, 0.55), loc='upper left', borderaxespad=0)\n",
    "# fig.set(title=\"TF-IDF TSNE visualization (NER Train)\") "
   ]
  },
  {
   "cell_type": "code",
   "execution_count": null,
   "id": "d032043f",
   "metadata": {},
   "outputs": [],
   "source": [
    "# tsne = TSNE(n_components=2, \n",
    "#             learning_rate='auto',\n",
    "#             n_iter=5000,\n",
    "#             init='random',\n",
    "#             random_state=101,\n",
    "#             n_jobs=-1)\n",
    "\n",
    "# Xtest_ner_tsne = tsne.fit_transform(Xtest_ner)\n",
    "\n",
    "# df_ner_tsne = pd.DataFrame()\n",
    "# df_ner_tsne[\"y\"] = [(\"non-suggestion\" if not y else \"suggestion\") for y in ytest_ner]\n",
    "# df_ner_tsne[\"comp-1\"] = Xtest_ner_tsne[:,0]\n",
    "# df_ner_tsne[\"comp-2\"] = Xtest_ner_tsne[:,1]\n",
    "# markers = {\"non-suggestion\": \"s\", \"suggestion\": \"X\"}\n",
    "\n",
    "# fig = sns.scatterplot(x=\"comp-1\", \n",
    "#                       y=\"comp-2\", \n",
    "#                       hue=df_ner_tsne.y.tolist(),\n",
    "#                       palette=['red','green'], \n",
    "#                       style=\"y\",\n",
    "#                       markers=markers,\n",
    "#                       data=df_ner_tsne)\n",
    "\n",
    "# plt.legend(bbox_to_anchor=(1.02, 0.55), loc='upper left', borderaxespad=0)\n",
    "# fig.set(title=\"TF-IDF TSNE visualization (NER Test)\") "
   ]
  },
  {
   "cell_type": "code",
   "execution_count": null,
   "id": "a4df2670",
   "metadata": {},
   "outputs": [],
   "source": [
    "# SAVE THE SVC and TF-IDF for future use\n",
    "with open(\"./saved_weights/tfidf_vectorizer_ner.pkl\", 'wb') as f:\n",
    "    vectorizer = dump(vectorizer, f)\n",
    "\n",
    "with open(\"./saved_weights/svc_ner.pkl\", 'wb') as f:\n",
    "    svc_classifier = dump(svc_classifier, f)"
   ]
  }
 ],
 "metadata": {
  "kernelspec": {
   "display_name": "Python 3.10.5 64-bit",
   "language": "python",
   "name": "python3"
  },
  "language_info": {
   "codemirror_mode": {
    "name": "ipython",
    "version": 3
   },
   "file_extension": ".py",
   "mimetype": "text/x-python",
   "name": "python",
   "nbconvert_exporter": "python",
   "pygments_lexer": "ipython3",
   "version": "3.10.5"
  },
  "vscode": {
   "interpreter": {
    "hash": "7a2000831a5050d8503f24d6733c4641a8734e9c81b6dced7c2deb928c6c3201"
   }
  }
 },
 "nbformat": 4,
 "nbformat_minor": 5
}
