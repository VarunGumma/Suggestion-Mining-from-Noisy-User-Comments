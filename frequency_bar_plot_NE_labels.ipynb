{
 "cells": [
  {
   "cell_type": "code",
   "execution_count": null,
   "id": "5b0ffc06",
   "metadata": {},
   "outputs": [],
   "source": [
    "import pandas as pd\n",
    "import matplotlib.pyplot as plt\n",
    "from itertools import chain\n",
    "from collections import Counter\n",
    "plt.style.use(\"ggplot\")\n",
    "\n",
    "TAGS = \"BIOES\""
   ]
  },
  {
   "cell_type": "code",
   "execution_count": null,
   "id": "5875c015",
   "metadata": {},
   "outputs": [],
   "source": [
    "data = pd.read_csv(\"./data/test_290818.txt\", \n",
    "                   sep=' ', \n",
    "                   header=None, \n",
    "                   names=['a', 'b', 'c'],\n",
    "                   encoding=\"utf-8\",\n",
    "                   converters={'a': pd.eval, \n",
    "                               'b': pd.eval})\n",
    "\n",
    "data['b'] = data['b'].apply(lambda x: [l.split('-')[0] for l in x])\n",
    "\n",
    "labels = list(chain(*data['b'].tolist()))\n",
    "\n",
    "c = Counter(labels)\n",
    "unique_labels = list(c.keys())\n",
    "unique_labels_idx = range(len(TAGS))\n",
    "freq = list(c.values())\n",
    "\n",
    "f, ax = plt.subplots()\n",
    "plt.bar(unique_labels_idx, freq, width=0.5)\n",
    "plt.xlabel(\"Name-Entities\")\n",
    "plt.ylabel(\"Frequency\")\n",
    "plt.title(\"Bar chart representing frequency of name-entities in the NER dataset\")\n",
    "ax.set_xticks(range(len(TAGS)))\n",
    "ax.set_xticklabels(unique_labels)\n",
    "plt.show()"
   ]
  },
  {
   "cell_type": "code",
   "execution_count": null,
   "id": "4ba006b0",
   "metadata": {},
   "outputs": [],
   "source": [
    "data = data[data['c'] > 0] \n",
    "labels = list(chain(*data['b'].tolist()))\n",
    "\n",
    "c = Counter(labels)\n",
    "unique_labels = list(c.keys())\n",
    "unique_labels_idx = range(len(TAGS))\n",
    "freq = list(c.values())\n",
    "\n",
    "f, ax = plt.subplots()\n",
    "plt.bar(unique_labels_idx, freq, width=0.5)\n",
    "plt.xlabel(\"Name-Entities\")\n",
    "plt.ylabel(\"Frequency\")\n",
    "plt.title(\"Bar chart representing frequency of name-entities in the Suggestions of NER dataset\")\n",
    "ax.set_xticks(range(len(TAGS)))\n",
    "ax.set_xticklabels(unique_labels)\n",
    "plt.show()"
   ]
  }
 ],
 "metadata": {
  "kernelspec": {
   "display_name": "Python 3.10.7 64-bit",
   "language": "python",
   "name": "python3"
  },
  "language_info": {
   "codemirror_mode": {
    "name": "ipython",
    "version": 3
   },
   "file_extension": ".py",
   "mimetype": "text/x-python",
   "name": "python",
   "nbconvert_exporter": "python",
   "pygments_lexer": "ipython3",
   "version": "3.10.7"
  },
  "vscode": {
   "interpreter": {
    "hash": "7a2000831a5050d8503f24d6733c4641a8734e9c81b6dced7c2deb928c6c3201"
   }
  }
 },
 "nbformat": 4,
 "nbformat_minor": 5
}
