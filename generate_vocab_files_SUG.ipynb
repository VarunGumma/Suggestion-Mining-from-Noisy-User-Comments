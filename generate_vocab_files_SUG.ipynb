{
 "cells": [
  {
   "cell_type": "code",
   "execution_count": null,
   "id": "94b05aaf",
   "metadata": {},
   "outputs": [],
   "source": [
    "import pandas as pd\n",
    "from itertools import chain\n",
    "\n",
    "# import nltk\n",
    "# nltk.download('all')"
   ]
  },
  {
   "cell_type": "code",
   "execution_count": null,
   "id": "5109ae21",
   "metadata": {},
   "outputs": [],
   "source": [
    "def create_vocab(text):\n",
    "    all_words = list(chain.from_iterable(text))\n",
    "    all_unique_words = ['<PAD>', '<UNK>', '<START>', '<END>'] + sorted(list(set(all_words)))\n",
    "    with open(f\"./data/full_vocab_sug.txt\", mode=\"w\", encoding=\"utf-8\") as f:\n",
    "        f.writelines([f\"{w}\\n\" for w in all_unique_words])\n",
    "    print(f\"done!\")"
   ]
  },
  {
   "cell_type": "code",
   "execution_count": null,
   "id": "3c139a03",
   "metadata": {},
   "outputs": [],
   "source": [
    "df1 = pd.read_csv(\"./data/App_Training.csv\", names=[\"sno\", \"id\", \"text\", \"lbl\"])\n",
    "text1 = [x.lower().strip().split() for x in df1[\"text\"]]\n",
    "\n",
    "df2 = pd.read_csv(\"./data/App_Test_Labeled.csv\", names=[\"sno\", \"id\", \"text\", \"lbl\"])\n",
    "text2 = [x.lower().strip().split() for x in df2[\"text\"]]\n",
    "\n",
    "text = text1 + text2"
   ]
  },
  {
   "cell_type": "code",
   "execution_count": 9,
   "id": "bc395557",
   "metadata": {},
   "outputs": [
    {
     "name": "stdout",
     "output_type": "stream",
     "text": [
      "done!\n"
     ]
    }
   ],
   "source": [
    "create_vocab(text)"
   ]
  }
 ],
 "metadata": {
  "kernelspec": {
   "display_name": "Python 3.10.5 64-bit",
   "language": "python",
   "name": "python3"
  },
  "language_info": {
   "codemirror_mode": {
    "name": "ipython",
    "version": 3
   },
   "file_extension": ".py",
   "mimetype": "text/x-python",
   "name": "python",
   "nbconvert_exporter": "python",
   "pygments_lexer": "ipython3",
   "version": "3.10.7"
  },
  "vscode": {
   "interpreter": {
    "hash": "7a2000831a5050d8503f24d6733c4641a8734e9c81b6dced7c2deb928c6c3201"
   }
  }
 },
 "nbformat": 4,
 "nbformat_minor": 5
}
